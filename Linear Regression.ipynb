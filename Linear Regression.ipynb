{
  "nbformat": 4,
  "nbformat_minor": 0,
  "metadata": {
    "colab": {
      "name": "Linear Regression(stat).ipynb",
      "version": "0.3.2",
      "provenance": [],
      "collapsed_sections": []
    },
    "kernelspec": {
      "name": "python3",
      "display_name": "Python 3"
    }
  },
  "cells": [
    {
      "cell_type": "code",
      "metadata": {
        "id": "nF36fDZ1vNYo",
        "colab_type": "code",
        "outputId": "12c0d89f-2af8-4fe2-9de9-f014f3f3539f",
        "colab": {
          "base_uri": "https://localhost:8080/",
          "height": 810
        }
      },
      "source": [
        "import matplotlib.pyplot as plt\n",
        "import numpy as np \n",
        " \n",
        "\n",
        "def getX():\n",
        "  number_array = list()\n",
        "  number = input(\"Enter the number of elements for x:\")\n",
        "  print('Enter value of x:')\n",
        "  for i in range(int(number)):\n",
        "    n = input(\"number:\")\n",
        "    number_array.append(int(n))\n",
        "  return number_array\n",
        "\n",
        "def getY():\n",
        "  number_array = list()\n",
        "  number = input(\"Enter the number of elements for y:\")\n",
        "  print(\"enter value of y\")\n",
        "  for i in range(int(number)):\n",
        "    n = input(\"number:\")\n",
        "    number_array.append(int(n))\n",
        "  return number_array\n",
        "\n",
        "def estimate_coef(x, y): \n",
        "\t# number of observations/points \n",
        "\tn = np.size(x) \n",
        "\n",
        "\t# mean of x and y vector \n",
        "\tm_x, m_y = np.mean(x), np.mean(y) \n",
        "\n",
        "\t# calculating cross-deviation and deviation about x \n",
        "\tSS_xy = np.sum(y*x) - n*m_y*m_x \n",
        "\tSS_xx = np.sum(x*x) - n*m_x*m_x \n",
        "\n",
        "\t# calculating regression coefficients \n",
        "\ty = SS_xy / SS_xx \n",
        "\tx = m_y - y*m_x \n",
        "\n",
        "\treturn(x, y) \n",
        "\n",
        "def plot_regression_line(x, y, b): \n",
        "\t# plotting the actual points as scatter plot \n",
        "\tplt.scatter(x, y, color = \"m\", \n",
        "\t\t\tmarker = \"o\", s = 30) \n",
        "\n",
        "\t# predicted response vector \n",
        "\ty_pred = b[0] + b[1]*x \n",
        "\n",
        "\t# plotting the regression line \n",
        "\tplt.plot(x, y_pred, color = \"g\") \n",
        "\n",
        "\t# putting labels \n",
        "\tplt.xlabel('x') \n",
        "\tplt.ylabel('y') \n",
        "\n",
        "\t# function to show plot \n",
        "\tplt.show() \n",
        "\n",
        "def main(): \n",
        "\t# observations x = [65, 63, 67, 64, 68, 62, 70, 66, 68, 67,69,71]\n",
        "  # y = [68, 66, 68, 65, 69, 66, 68, 65, 71, 67,68,70]\n",
        "\tx = np.array(getX()) \n",
        "\ty = np.array(getY()) \n",
        "\n",
        "\t# estimating coefficients \n",
        "\tb = estimate_coef(x, y) \n",
        "\tprint(\"Estimated coefficients:\\nx = {} \\ny = {}\".format(b[0], b[1])) \n",
        "\n",
        "\t# plotting regression line \n",
        "\tplot_regression_line(x, y, b) \n",
        "\n",
        "\n",
        "main()\n"
      ],
      "execution_count": 3,
      "outputs": [
        {
          "output_type": "stream",
          "text": [
            "Enter the number of elements for x:12\n",
            "Enter value of x:\n",
            "number:65\n",
            "number:63\n",
            "number:67\n",
            "number:64\n",
            "number:68\n",
            "number:62\n",
            "number:70\n",
            "number:66\n",
            "number:68\n",
            "number:67\n",
            "number:69\n",
            "number:71\n",
            "Enter the number of elements for y:12\n",
            "enter value of y\n",
            "number:68\n",
            "number:66\n",
            "number:68\n",
            "number:65\n",
            "number:69\n",
            "number:66\n",
            "number:68\n",
            "number:65\n",
            "number:71\n",
            "number:67\n",
            "number:68\n",
            "number:70\n",
            "Estimated coefficients:\n",
            "x = 35.8248031496092 \n",
            "y = 0.47637795275586187\n"
          ],
          "name": "stdout"
        },
        {
          "output_type": "display_data",
          "data": {
            "image/png": "[encoded data removed]",
            "text/plain": [
              "<Figure size 432x288 with 1 Axes>"
            ]
          },
          "metadata": {
            "tags": []
          }
        }
      ]
    },
    {
      "cell_type": "code",
      "metadata": {
        "id": "oGMPj6X0_NAK",
        "colab_type": "code",
        "colab": {}
      },
      "source": [
        ""
      ],
      "execution_count": 0,
      "outputs": []
    },
    {
      "cell_type": "markdown",
      "metadata": {
        "id": "VZSBApoR_OM8",
        "colab_type": "text"
      },
      "source": [
        ""
      ]
    },
    {
      "cell_type": "code",
      "metadata": {
        "id": "R8si6rmM_P1T",
        "colab_type": "code",
        "colab": {}
      },
      "source": [
        ""
      ],
      "execution_count": 0,
      "outputs": []
    },
    {
      "cell_type": "markdown",
      "metadata": {
        "id": "0bCSs8Lf_ScS",
        "colab_type": "text"
      },
      "source": [
        ""
      ]
    }
  ]
}